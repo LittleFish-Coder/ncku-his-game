{
 "cells": [
  {
   "cell_type": "code",
   "execution_count": null,
   "metadata": {},
   "outputs": [],
   "source": [
    "%pip install pymupdf"
   ]
  },
  {
   "cell_type": "code",
   "execution_count": null,
   "metadata": {},
   "outputs": [],
   "source": [
    "import fitz  # PyMuPDF\n",
    "import os\n",
    "\n",
    "def pdf_to_png(pdf_path, output_folder):\n",
    "    # Open the PDF file\n",
    "    pdf_document = fitz.open(pdf_path)\n",
    "    os.makedirs(output_folder, exist_ok=True)  # Create output folder if it doesn't exist\n",
    "\n",
    "    # Loop through each page\n",
    "    for page_number in range(len(pdf_document)):\n",
    "        # Get page\n",
    "        page = pdf_document[page_number]\n",
    "        # Render page to image\n",
    "        pix = page.get_pixmap()\n",
    "        # Define output image path\n",
    "        output_image_path = os.path.join(output_folder, f\"page_{page_number + 1}.png\")\n",
    "        # Save as PNG\n",
    "        pix.save(output_image_path)\n",
    "        print(f\"Saved: {output_image_path}\")\n",
    "\n",
    "    # Close the PDF document\n",
    "    pdf_document.close()\n",
    "\n",
    "# Example usage\n",
    "pdf_path = \"../group2/第二組海報.pdf\"  # Path to your PDF file\n",
    "output_folder = \"output_images\"  # Folder to save PNG files\n",
    "pdf_to_png(pdf_path, output_folder)\n"
   ]
  }
 ],
 "metadata": {
  "kernelspec": {
   "display_name": "base",
   "language": "python",
   "name": "python3"
  },
  "language_info": {
   "codemirror_mode": {
    "name": "ipython",
    "version": 3
   },
   "file_extension": ".py",
   "mimetype": "text/x-python",
   "name": "python",
   "nbconvert_exporter": "python",
   "pygments_lexer": "ipython3",
   "version": "3.12.4"
  }
 },
 "nbformat": 4,
 "nbformat_minor": 2
}
