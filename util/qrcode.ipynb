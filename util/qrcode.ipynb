{
 "cells": [
  {
   "cell_type": "code",
   "execution_count": 1,
   "metadata": {},
   "outputs": [
    {
     "name": "stdout",
     "output_type": "stream",
     "text": [
      "Requirement already satisfied: qrcode in /opt/miniconda3/lib/python3.12/site-packages (8.0)\n",
      "Note: you may need to restart the kernel to use updated packages.\n"
     ]
    }
   ],
   "source": [
    "%pip install qrcode"
   ]
  },
  {
   "cell_type": "code",
   "execution_count": 4,
   "metadata": {},
   "outputs": [
    {
     "data": {
      "text/plain": [
       "['https://littlefish-coder.github.io/ncku-his-game/group1/game.html',\n",
       " 'https://littlefish-coder.github.io/ncku-his-game/group2/game.html',\n",
       " 'https://littlefish-coder.github.io/ncku-his-game/group3/game.html',\n",
       " 'https://littlefish-coder.github.io/ncku-his-game/group4/game.html',\n",
       " 'https://littlefish-coder.github.io/ncku-his-game/group5/game.html',\n",
       " 'https://littlefish-coder.github.io/ncku-his-game/group6/game.html',\n",
       " 'https://littlefish-coder.github.io/ncku-his-game/group7/game.html',\n",
       " 'https://littlefish-coder.github.io/ncku-his-game/group8/game.html',\n",
       " 'https://littlefish-coder.github.io/ncku-his-game/group9/game.html',\n",
       " 'https://littlefish-coder.github.io/ncku-his-game/group10/game.html',\n",
       " 'https://littlefish-coder.github.io/ncku-his-game/group11/game.html',\n",
       " 'https://littlefish-coder.github.io/ncku-his-game/group12/game.html']"
      ]
     },
     "execution_count": 4,
     "metadata": {},
     "output_type": "execute_result"
    }
   ],
   "source": [
    "groups_game_urls = [f\"https://littlefish-coder.github.io/ncku-his-game/group{group}/game.html\" for group in range(1, 13)]\n",
    "groups_game_urls"
   ]
  },
  {
   "cell_type": "code",
   "execution_count": 2,
   "metadata": {},
   "outputs": [],
   "source": [
    "import qrcode\n",
    "\n",
    "for i, group_game_url in enumerate(groups_game_urls):\n",
    "    qr = qrcode.QRCode(\n",
    "        version=1,\n",
    "        error_correction=qrcode.constants.ERROR_CORRECT_L,\n",
    "        box_size=10,\n",
    "        border=4,\n",
    "    )\n",
    "    qr.add_data(group_game_url)\n",
    "    qr.make(fit=True)\n",
    "\n",
    "    img = qr.make_image(fill_color=\"black\", back_color=\"white\")\n",
    "    img.save(f\"qrcode_group{i+1}.png\")"
   ]
  },
  {
   "cell_type": "code",
   "execution_count": 3,
   "metadata": {},
   "outputs": [],
   "source": [
    "img.show()                # 顯示圖片 ( Colab 不適用 )\n",
    "img.save('qrcode.png')    # 儲存圖片"
   ]
  }
 ],
 "metadata": {
  "kernelspec": {
   "display_name": "base",
   "language": "python",
   "name": "python3"
  },
  "language_info": {
   "codemirror_mode": {
    "name": "ipython",
    "version": 3
   },
   "file_extension": ".py",
   "mimetype": "text/x-python",
   "name": "python",
   "nbconvert_exporter": "python",
   "pygments_lexer": "ipython3",
   "version": "3.12.4"
  }
 },
 "nbformat": 4,
 "nbformat_minor": 2
}
